{
 "cells": [
  {
   "cell_type": "markdown",
   "metadata": {},
   "source": [
    "# Linked Lists in Python"
   ]
  },
  {
   "cell_type": "code",
   "execution_count": 53,
   "metadata": {},
   "outputs": [],
   "source": [
    "class Cell:\n",
    "    def __init__(self, value, next=None):\n",
    "        self.value = value\n",
    "        self.next = next\n",
    "\n",
    "\n",
    "class Linked_list:\n",
    "    def __init__(self):\n",
    "        self.head = Cell(None)\n",
    "    \n",
    "    def size(self):\n",
    "        sz = 0\n",
    "        cur = self.head.next\n",
    "        while cur is not None:\n",
    "            sz += 1\n",
    "            cur = cur.next\n",
    "        return sz\n",
    "\n",
    "    def print(self):\n",
    "        print('[', end=' ')\n",
    "        cur = self.head.next\n",
    "        while cur is not None:\n",
    "            print(cur.value, end=' ')\n",
    "            cur = cur.next\n",
    "        print(']')\n",
    "        \n",
    "    def push_front(self, value):\n",
    "        c = Cell(value, next=self.head.next)\n",
    "        self.head.next = c\n",
    "\n",
    "    def insert(self, x):\n",
    "        c = Cell(x)\n",
    "        cur = self.head\n",
    "        while cur.next and cur.next.value < x:\n",
    "            cur = cur.next\n",
    "        c.next = cur.next\n",
    "        cur.next = c"
   ]
  },
  {
   "cell_type": "code",
   "execution_count": 57,
   "metadata": {},
   "outputs": [],
   "source": [
    "l = Linked_list()\n",
    "\n",
    "for i in range(20, 0, -2):\n",
    "    l.push_front(i)"
   ]
  },
  {
   "cell_type": "code",
   "execution_count": 58,
   "metadata": {},
   "outputs": [
    {
     "name": "stdout",
     "output_type": "stream",
     "text": [
      "[ 2 4 6 8 10 12 14 16 18 20 ]\n"
     ]
    }
   ],
   "source": [
    "l.print()"
   ]
  },
  {
   "cell_type": "code",
   "execution_count": 59,
   "metadata": {},
   "outputs": [
    {
     "name": "stdout",
     "output_type": "stream",
     "text": [
      "[ 2 4 5 6 8 10 12 14 16 18 20 ]\n"
     ]
    }
   ],
   "source": [
    "l.insert(5)\n",
    "l.print()"
   ]
  },
  {
   "cell_type": "code",
   "execution_count": null,
   "metadata": {},
   "outputs": [],
   "source": []
  }
 ],
 "metadata": {
  "kernelspec": {
   "display_name": "Python 3",
   "language": "python",
   "name": "python3"
  },
  "language_info": {
   "codemirror_mode": {
    "name": "ipython",
    "version": 3
   },
   "file_extension": ".py",
   "mimetype": "text/x-python",
   "name": "python",
   "nbconvert_exporter": "python",
   "pygments_lexer": "ipython3",
   "version": "3.7.4"
  }
 },
 "nbformat": 4,
 "nbformat_minor": 2
}
